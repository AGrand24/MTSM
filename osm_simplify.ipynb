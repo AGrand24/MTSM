{
 "cells": [
  {
   "cell_type": "code",
   "execution_count": null,
   "metadata": {},
   "outputs": [],
   "source": [
    "import pandas as pd\n",
    "import geopandas as gpd\n",
    "ls=['power','highway','waterway','railway','electrified','man_made','geometry']\n",
    "pt=['man_made','tower:type','geometry']"
   ]
  },
  {
   "cell_type": "code",
   "execution_count": 7,
   "metadata": {},
   "outputs": [],
   "source": [
    "gdf_ls=gpd.read_file('tmp/osm_full.gpkg',layer='osm_ls')\n",
    "gdf_pt=gpd.read_file('tmp/osm_full.gpkg',layer='osm_pt')\n",
    "gdf=pd.concat([gdf_ls,gdf_pt]).reset_index(drop=True)\n",
    "osm_filter={'man_made':['tower','mast','pipeline'],'power':['line','minor_line'],'highway':['motorway','secondary','primary','tertiary','residential','service','unclassified','track','path','footway'],'waterway':['river','stream','canal','ditch','drain'],'railway':['rail'],'electrified':'all'}\n",
    "\n",
    "gdf_out=gpd.GeoDataFrame()\n",
    "gdf=gdf[list(osm_filter.keys())+['geometry']]\n",
    "for k,v in osm_filter.items():\n",
    "\tif k in gdf.columns:\n",
    "\t\tif v=='all':\n",
    "\t\t\ttmp=gdf.loc[:,k]\n",
    "\t\telse:\n",
    "\t\t\ttmp=gdf.loc[gdf[k].isin(v)]\n",
    "\n",
    "\t\tgdf_out=pd.concat([gdf_out,tmp]).reset_index(drop=True)\n",
    "\n",
    "\n",
    "gdf_pt=gdf_out.copy().loc[gdf_out['geometry'].astype(str).str.startswith('POINT')]\n",
    "gdf_pt=gdf_pt.dropna(axis=1,how='all')\n",
    "gdf_ls=gdf_out.copy().loc[gdf_out['geometry'].astype(str).str.startswith('LINE')]\n",
    "gdf_ls=gdf_ls.dropna(axis=1,how='all')\n",
    "\n",
    "gdf_pt.to_file('MTSM_qgis/mtsm_osm.gpkg',layer='osm_pt',engine='pyogrio')\n",
    "gdf_ls.to_file('MTSM_qgis/mtsm_osm.gpkg',layer='osm_ls',engine='pyogrio')"
   ]
  }
 ],
 "metadata": {
  "kernelspec": {
   "display_name": "Python 3",
   "language": "python",
   "name": "python3"
  },
  "language_info": {
   "codemirror_mode": {
    "name": "ipython",
    "version": 3
   },
   "file_extension": ".py",
   "mimetype": "text/x-python",
   "name": "python",
   "nbconvert_exporter": "python",
   "pygments_lexer": "ipython3",
   "version": "3.12.7"
  }
 },
 "nbformat": 4,
 "nbformat_minor": 2
}
